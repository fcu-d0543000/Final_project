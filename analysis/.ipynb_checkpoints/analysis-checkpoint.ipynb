{
 "cells": [
  {
   "cell_type": "markdown",
   "metadata": {},
   "source": [
    "## 分析資料\n",
    " \n",
    "78 雲液態水含量的垂直積分  單位（kg m ** - 2）  \n",
    "79 雲冰水含量的垂直積分  單位（kg m ** - 2）  \n",
    "134 表面壓力  單位：Pa   \n",
    "157 相對濕度  單位（％）  \n",
    "164 總雲量  單位：（0-1）  \n",
    "165 10米U風部件  單位（m s ** - 1）  \n",
    "166 米V風分量  單位（m s ** - 1）  \n",
    "167 2米溫度  單位：K  \n",
    "169 表面太陽輻射  單位：J m-2  \n",
    "175 表面熱輻射下降  單位：J m-2  \n",
    "178 大氣頂部的淨太陽輻射  單位：J m-2  \n",
    "228 總降水量  單位：m   \n",
    "  \n",
    "https://zhuanlan.zhihu.com/p/34568684 - 使用Python可視化數據"
   ]
  },
  {
   "cell_type": "markdown",
   "metadata": {},
   "source": [
    "### Prepare"
   ]
  },
  {
   "cell_type": "code",
   "execution_count": 1,
   "metadata": {},
   "outputs": [],
   "source": [
    "# import pandas\n",
    "import pandas as pd\n",
    "from datetime import datetime\n",
    "from dateutil import parser\n",
    "import numpy as np\n",
    "\n",
    "# 禁用Anaconda警告\n",
    "import warnings\n",
    "warnings.simplefilter('ignore')"
   ]
  },
  {
   "cell_type": "code",
   "execution_count": 2,
   "metadata": {},
   "outputs": [],
   "source": [
    "# 解決Python 3 Matplotlib與Seaborn視覺化套件中文顯示問題  \n",
    "# https://medium.com/@aitmr1234567890/%E8%A7%A3%E6%B1%BApython-3-matplotlib%E8%88%87seaborn%E8%A6%96%E8%A6%BA%E5%8C%96%E5%A5%97%E4%BB%B6%E4%B8%AD%E6%96%87%E9%A1%AF%E7%A4%BA%E5%95%8F%E9%A1%8C-f7b3773a889b  \n",
    "# \n",
    "# Google 中文字形  \n",
    "# https://www.google.com/get/noto/#serif-hant  "
   ]
  },
  {
   "cell_type": "code",
   "execution_count": 3,
   "metadata": {},
   "outputs": [],
   "source": [
    "# 圖形相關\n",
    "from matplotlib.font_manager import FontProperties\n",
    "myfont = FontProperties(fname=r'NotoSerifCJKtc-Black.otf')\n",
    "\n",
    "import matplotlib.pyplot as plt\n",
    "import seaborn as sns\n",
    "sns.set(font=myfont.get_family())\n",
    "sns.set_style(\"whitegrid\",{\"font.sans-serif\":['Microsoft JhengHei']})"
   ]
  },
  {
   "cell_type": "code",
   "execution_count": 4,
   "metadata": {},
   "outputs": [
    {
     "data": {
      "text/html": [
       "<div>\n",
       "<style scoped>\n",
       "    .dataframe tbody tr th:only-of-type {\n",
       "        vertical-align: middle;\n",
       "    }\n",
       "\n",
       "    .dataframe tbody tr th {\n",
       "        vertical-align: top;\n",
       "    }\n",
       "\n",
       "    .dataframe thead th {\n",
       "        text-align: right;\n",
       "    }\n",
       "</style>\n",
       "<table border=\"1\" class=\"dataframe\">\n",
       "  <thead>\n",
       "    <tr style=\"text-align: right;\">\n",
       "      <th></th>\n",
       "      <th>ZONEID</th>\n",
       "      <th>TIMESTAMP</th>\n",
       "      <th>DATE</th>\n",
       "      <th>MONTH</th>\n",
       "      <th>HOUR</th>\n",
       "      <th>SEASON</th>\n",
       "      <th>VAR78</th>\n",
       "      <th>VAR79</th>\n",
       "      <th>VAR134</th>\n",
       "      <th>VAR157</th>\n",
       "      <th>VAR164</th>\n",
       "      <th>VAR165</th>\n",
       "      <th>VAR166</th>\n",
       "      <th>VAR167</th>\n",
       "      <th>VAR169</th>\n",
       "      <th>VAR175</th>\n",
       "      <th>VAR178</th>\n",
       "      <th>VAR228</th>\n",
       "      <th>POWER</th>\n",
       "    </tr>\n",
       "  </thead>\n",
       "  <tbody>\n",
       "    <tr>\n",
       "      <th>0</th>\n",
       "      <td>1</td>\n",
       "      <td>20120401 01:00</td>\n",
       "      <td>2012-04-01</td>\n",
       "      <td>4</td>\n",
       "      <td>9</td>\n",
       "      <td>2</td>\n",
       "      <td>0.001967</td>\n",
       "      <td>0.003609</td>\n",
       "      <td>94843.6250</td>\n",
       "      <td>60.221909</td>\n",
       "      <td>0.244601</td>\n",
       "      <td>1.039334</td>\n",
       "      <td>-2.503039</td>\n",
       "      <td>294.448486</td>\n",
       "      <td>2577830.0</td>\n",
       "      <td>1202532.0</td>\n",
       "      <td>2861797.0</td>\n",
       "      <td>0.0</td>\n",
       "      <td>0.754103</td>\n",
       "    </tr>\n",
       "    <tr>\n",
       "      <th>1</th>\n",
       "      <td>1</td>\n",
       "      <td>20120401 02:00</td>\n",
       "      <td>2012-04-01</td>\n",
       "      <td>4</td>\n",
       "      <td>10</td>\n",
       "      <td>2</td>\n",
       "      <td>0.005524</td>\n",
       "      <td>0.033575</td>\n",
       "      <td>94757.9375</td>\n",
       "      <td>54.678604</td>\n",
       "      <td>0.457138</td>\n",
       "      <td>2.482865</td>\n",
       "      <td>-2.993330</td>\n",
       "      <td>295.651367</td>\n",
       "      <td>5356093.0</td>\n",
       "      <td>2446757.0</td>\n",
       "      <td>5949378.0</td>\n",
       "      <td>0.0</td>\n",
       "      <td>0.555000</td>\n",
       "    </tr>\n",
       "  </tbody>\n",
       "</table>\n",
       "</div>"
      ],
      "text/plain": [
       "   ZONEID       TIMESTAMP        DATE  MONTH  HOUR  SEASON     VAR78  \\\n",
       "0       1  20120401 01:00  2012-04-01      4     9       2  0.001967   \n",
       "1       1  20120401 02:00  2012-04-01      4    10       2  0.005524   \n",
       "\n",
       "      VAR79      VAR134     VAR157    VAR164    VAR165    VAR166      VAR167  \\\n",
       "0  0.003609  94843.6250  60.221909  0.244601  1.039334 -2.503039  294.448486   \n",
       "1  0.033575  94757.9375  54.678604  0.457138  2.482865 -2.993330  295.651367   \n",
       "\n",
       "      VAR169     VAR175     VAR178  VAR228     POWER  \n",
       "0  2577830.0  1202532.0  2861797.0     0.0  0.754103  \n",
       "1  5356093.0  2446757.0  5949378.0     0.0  0.555000  "
      ]
     },
     "execution_count": 4,
     "metadata": {},
     "output_type": "execute_result"
    }
   ],
   "source": [
    "project = pd.read_csv('re_predictors15.csv')\n",
    "project.head(2)"
   ]
  },
  {
   "cell_type": "code",
   "execution_count": 5,
   "metadata": {},
   "outputs": [],
   "source": [
    "df = project"
   ]
  },
  {
   "cell_type": "code",
   "execution_count": 6,
   "metadata": {},
   "outputs": [],
   "source": [
    "# figure size\n",
    "# 單圖\n",
    "asX = 10\n",
    "asY = 9\n",
    "# 多圖\n",
    "# 12\n",
    "msX = 42\n",
    "msY = 28\n",
    "# 24\n",
    "hsX = 63\n",
    "hsY = 28\n",
    "# varCol only Vars\n",
    "varCol = list(set(project.columns) - set(['ZONEID', 'TIMESTAMP', 'DATE', 'MONTH', 'HOUR','POWER','SEASON']))\n",
    "# varApow\n",
    "varApow = list(set(project.columns) - set(['ZONEID', 'TIMESTAMP', 'DATE', 'MONTH', 'HOUR','SEASON']))"
   ]
  },
  {
   "cell_type": "markdown",
   "metadata": {
    "heading_collapsed": true
   },
   "source": [
    "### 散點圖 (Scatter)"
   ]
  },
  {
   "cell_type": "markdown",
   "metadata": {
    "heading_collapsed": true,
    "hidden": true
   },
   "source": [
    "#### x: HOUR, y: Var。"
   ]
  },
  {
   "cell_type": "code",
   "execution_count": null,
   "metadata": {
    "hidden": true
   },
   "outputs": [],
   "source": [
    "# 繪製 Scatter, x: HOUR, y: Var。\n",
    "\n",
    "VARs = varApow\n",
    "for var in VARs:\n",
    "    #每 HOUR 的 VAR\n",
    "    fig = plt.figure(figsize=(asX, asY))\n",
    "    ax = fig.add_subplot(111)\n",
    "    #ax.set_title('',fontproperties=myfont)\n",
    "    ax.set_xlabel(\"HOUR\",fontproperties=myfont)\n",
    "    ax.set_ylabel(var,fontproperties=myfont)\n",
    "    ax.scatter(project['HOUR'],project[var],c = 'r',marker = '.')\n",
    "    plt.savefig('../picture/xHour yVar/'+var+'.png')"
   ]
  },
  {
   "cell_type": "code",
   "execution_count": null,
   "metadata": {
    "hidden": true
   },
   "outputs": [],
   "source": [
    "# 繪製 Scatter, x: HOUR, y: Var。 each Month\n",
    "\n",
    "VARs = varApow\n",
    "for var in VARs:\n",
    "    fig = plt.figure(figsize=(msX, msY))\n",
    "    for i in range(1, 13):\n",
    "        df = project[project['MONTH']== i]\n",
    "        ax = fig.add_subplot(3, 4, i)\n",
    "        ax.set_title('MONTH = ' + str(i), fontproperties=myfont)\n",
    "        ax.set_xlabel(\"HOUR\",fontproperties=myfont)\n",
    "        ax.set_ylabel(var,fontproperties=myfont)\n",
    "        ax.scatter(df[\"HOUR\"],df[var],c = 'r',marker = '.')\n",
    "    plt.savefig('../picture/xHour yVar/eMonth/'+var+'.png')"
   ]
  },
  {
   "cell_type": "code",
   "execution_count": null,
   "metadata": {
    "hidden": true
   },
   "outputs": [],
   "source": [
    "# 繪製 Scatter, x: HOUR, y: Var。 each Season\n",
    "\n",
    "VARs = varApow\n",
    "df = project\n",
    "for var in VARs:\n",
    "    fig = plt.figure(figsize=(asX*2, asY*2))\n",
    "    for i in range(0, 4):\n",
    "        df = project[project['SEASON']== i]\n",
    "        ax = fig.add_subplot(2, 2, i+1)\n",
    "        ax.set_title('SEASON = ' + str(i), fontproperties=myfont)\n",
    "        ax.set_xlabel(\"HOUR\",fontproperties=myfont)\n",
    "        ax.set_ylabel(var,fontproperties=myfont)\n",
    "        ax.scatter(df[\"HOUR\"],df[var],c = 'r',marker = '.')\n",
    "    plt.savefig('../picture/xHour yVar/eSeason/'+var+'.png')"
   ]
  },
  {
   "cell_type": "markdown",
   "metadata": {
    "heading_collapsed": true,
    "hidden": true
   },
   "source": [
    "####  x: Var, y: power。"
   ]
  },
  {
   "cell_type": "code",
   "execution_count": null,
   "metadata": {
    "hidden": true
   },
   "outputs": [],
   "source": [
    "# 繪製 Scatter, x: Var, y: power。\n",
    "\n",
    "VARs = varCol\n",
    "for var in VARs:\n",
    "    #每 HOUR 的 VAR\n",
    "    fig = plt.figure(figsize=(asX, asY))\n",
    "    ax = fig.add_subplot(111)\n",
    "    #ax.set_title('Scatter Plot',fontproperties=myfont)\n",
    "    ax.set_xlabel(var,fontproperties=myfont)\n",
    "    ax.set_ylabel(\"POWER\",fontproperties=myfont)\n",
    "    ax.scatter(project[var],project[\"POWER\"],c = 'r',marker = '.')\n",
    "    plt.savefig('../picture/xVar yPower/'+var+'.png')"
   ]
  },
  {
   "cell_type": "code",
   "execution_count": null,
   "metadata": {
    "hidden": true
   },
   "outputs": [],
   "source": [
    "# 繪製 Scatter, x: Var, y: power。 HOUR = 4~17\n",
    "\n",
    "VARs = varCol\n",
    "df = project[project['HOUR'] >= 4]\n",
    "df = df[df['HOUR'] <= 17]\n",
    "for var in VARs:\n",
    "    #每 HOUR 的 VAR\n",
    "    fig = plt.figure(figsize=(asX, asY))\n",
    "    ax = fig.add_subplot(111)\n",
    "    ax.set_title('HOUR 4~17',fontproperties=myfont)\n",
    "    ax.set_xlabel(var,fontproperties=myfont)\n",
    "    ax.set_ylabel(\"POWER\",fontproperties=myfont)\n",
    "    ax.scatter(df[var],df[\"POWER\"],c = 'r',marker = '.')\n",
    "    plt.savefig('../picture/xVar yPower/4-17/'+var+'.png')"
   ]
  },
  {
   "cell_type": "code",
   "execution_count": null,
   "metadata": {
    "hidden": true
   },
   "outputs": [],
   "source": [
    "# 繪製 Scatter, x: Var, y: power。 each Hour\n",
    "\n",
    "VARs = varCol\n",
    "df = project\n",
    "for var in VARs:\n",
    "    #每 HOUR 的 VAR\n",
    "    fig = plt.figure(figsize=(hsX, hsY))\n",
    "    for i in range(0, 24):\n",
    "        df = project[project['HOUR']== i]\n",
    "        ax = fig.add_subplot(4, 6, i+1)\n",
    "        ax.set_title('HOUR = ' + str(i), fontproperties=myfont)\n",
    "        ax.set_xlabel(var,fontproperties=myfont)\n",
    "        ax.set_ylabel(\"POWER\",fontproperties=myfont)\n",
    "        ax.scatter(df[var],df[\"POWER\"],c = 'r',marker = '.')\n",
    "    plt.savefig('../picture/xVar yPower/eHour/'+var+'.png')"
   ]
  },
  {
   "cell_type": "code",
   "execution_count": null,
   "metadata": {
    "hidden": true
   },
   "outputs": [],
   "source": [
    "# 繪製 Scatter, x: Var, y: power。 each Month\n",
    "\n",
    "VARs = varCol\n",
    "df = project\n",
    "for var in VARs:\n",
    "    #每 Month 的 VAR\n",
    "    fig = plt.figure(figsize=(msX, msY))\n",
    "    for i in range(1, 13):\n",
    "        df = project[project['MONTH']== i]\n",
    "        ax = fig.add_subplot(3, 4, i)\n",
    "        ax.set_title('MONTH = ' + str(i), fontproperties=myfont)\n",
    "        ax.set_xlabel(var,fontproperties=myfont)\n",
    "        ax.set_ylabel(\"POWER\",fontproperties=myfont)\n",
    "        ax.scatter(df[var],df[\"POWER\"],c = 'r',marker = '.')\n",
    "    plt.savefig('../picture/xVar yPower/eMonth/'+var+'.png')"
   ]
  },
  {
   "cell_type": "code",
   "execution_count": null,
   "metadata": {
    "hidden": true
   },
   "outputs": [],
   "source": [
    "# 繪製 Scatter, x: Var, y: power。 each Season\n",
    "\n",
    "VARs = varCol\n",
    "df = project\n",
    "for var in VARs:\n",
    "    #每 Month 的 VAR\n",
    "    fig = plt.figure(figsize=(asX*2, asY*2))\n",
    "    for i in range(0, 4):\n",
    "        df = project[project['SEASON']== i]\n",
    "        ax = fig.add_subplot(2, 2, i+1)\n",
    "        ax.set_title('SEASON = ' + str(i), fontproperties=myfont)\n",
    "        ax.set_xlabel(var,fontproperties=myfont)\n",
    "        ax.set_ylabel(\"POWER\",fontproperties=myfont)\n",
    "        ax.scatter(df[var],df[\"POWER\"],c = 'r',marker = '.')\n",
    "    plt.savefig('../picture/xVar yPower/eSeason/'+var+'.png')"
   ]
  },
  {
   "cell_type": "markdown",
   "metadata": {
    "heading_collapsed": true,
    "hidden": true
   },
   "source": [
    "#### x: Month, y: Var。"
   ]
  },
  {
   "cell_type": "code",
   "execution_count": null,
   "metadata": {
    "hidden": true
   },
   "outputs": [],
   "source": [
    "# 繪製 Scatter, x: Month, y: Var。\n",
    "\n",
    "VARs = varCol\n",
    "for var in VARs:\n",
    "    #每 HOUR 的 VAR\n",
    "    fig = plt.figure(figsize=(5, 4))\n",
    "    ax = fig.add_subplot(111)\n",
    "    ax.set_title('',fontproperties=myfont)\n",
    "    ax.set_xlabel('MONTH',fontproperties=myfont)\n",
    "    ax.set_ylabel(var,fontproperties=myfont)\n",
    "    ax.scatter(df['MONTH'],df[var],c = 'r',marker = '.')\n",
    "    plt.savefig('../picture/xMonth yVar/'+var+'.png')"
   ]
  },
  {
   "cell_type": "code",
   "execution_count": null,
   "metadata": {
    "hidden": true
   },
   "outputs": [],
   "source": [
    "# 繪製 Scatter, x: Month, y: Var。 ZONEID = [1, 2, 3]\n",
    "\n",
    "VARs = varCol\n",
    "for i in range(1, 4):\n",
    "    df = project[project['ZONEID'] == i]\n",
    "    for var in VARs:\n",
    "        #每 HOUR 的 VAR\n",
    "        fig = plt.figure(figsize=(5, 4))\n",
    "        ax = fig.add_subplot(111)\n",
    "        ax.set_title('ZONEID '+str(i), fontproperties=myfont)\n",
    "        ax.set_xlabel('MONTH', fontproperties=myfont)\n",
    "        ax.set_ylabel(var, fontproperties=myfont)\n",
    "        ax.scatter(df['MONTH'], df[var], c = 'r', marker = '.')\n",
    "        plt.savefig('../picture/xMonth yVar/ZONEID'+str(i)+'/'+var+'.png')"
   ]
  },
  {
   "cell_type": "markdown",
   "metadata": {
    "heading_collapsed": true,
    "hidden": true
   },
   "source": [
    "#### x: Var1, y: Var2。"
   ]
  },
  {
   "cell_type": "code",
   "execution_count": null,
   "metadata": {
    "hidden": true
   },
   "outputs": [],
   "source": [
    "# 繪製 Scatter, x: Var1, y: Var2。 \n",
    "\n",
    "VARs = varCol\n",
    "df = project\n",
    "for var1 in VARs:\n",
    "    for var2 in VARs:\n",
    "        if var1 != var2:\n",
    "            fig = plt.figure(figsize=(asX, asY))\n",
    "            ax = fig.add_subplot(1, 1, 1)\n",
    "            ax.set_title('x: ' + var1 + ' y: ' + var2, fontproperties=myfont)\n",
    "            ax.set_xlabel(var1, fontproperties=myfont)\n",
    "            ax.set_ylabel(var2, fontproperties=myfont)\n",
    "            ax.scatter(df[var1],df[var2],c = 'r',marker = '.')\n",
    "            plt.savefig('../picture/xVar1 xVar2/' + var1 + '/' + var2 +'.png')"
   ]
  },
  {
   "cell_type": "code",
   "execution_count": null,
   "metadata": {
    "hidden": true
   },
   "outputs": [],
   "source": [
    "# 繪製 Scatter, x: Var1, y: Var2。 大圖\n",
    "\n",
    "VARs = varCol\n",
    "df = project\n",
    "for var1 in VARs:\n",
    "    fig = plt.figure(figsize=(msX, msY))\n",
    "    i = 1\n",
    "    for var2 in VARs:\n",
    "        if var1 != var2:\n",
    "            ax = fig.add_subplot(3, 4, i)\n",
    "            ax.set_title('x: ' + var1 + ' y: ' + var2, fontproperties=myfont)\n",
    "            ax.set_xlabel(var1, fontproperties=myfont)\n",
    "            ax.set_ylabel(var2, fontproperties=myfont)\n",
    "            ax.scatter(df[var1],df[var2],c = 'r',marker = '.')\n",
    "            i += 1\n",
    "    plt.savefig('../picture/xVar1 xVar2/' + var1 +'.png')"
   ]
  },
  {
   "cell_type": "markdown",
   "metadata": {
    "heading_collapsed": true
   },
   "source": [
    "### 箱型圖 (Box plot)"
   ]
  },
  {
   "cell_type": "code",
   "execution_count": null,
   "metadata": {
    "hidden": true
   },
   "outputs": [],
   "source": [
    "# 繪製 Box, x = Var。\n",
    "\n",
    "VARs = varApow\n",
    "df = project\n",
    "for var in VARs:\n",
    "    _,ax = plt.subplots(figsize=(asX, asY))\n",
    "    ax.set_title(var)\n",
    "    sns_hist = sns.boxplot(data=df[var], ax=ax)\n",
    "    fig = sns_hist.get_figure()\n",
    "    fig.savefig('../picture/boxPlot/'+var+'.png')"
   ]
  },
  {
   "cell_type": "code",
   "execution_count": null,
   "metadata": {
    "hidden": true
   },
   "outputs": [],
   "source": [
    "# 繪製 Box, x = Var。 each Month\n",
    "\n",
    "VARs = varApow\n",
    "df = project\n",
    "\n",
    "for var in VARs:\n",
    "    fig, axes = plt.subplots(figsize=(asX, asY))\n",
    "    ax = axes\n",
    "    sns.boxplot(x='MONTH', y=var, data=df, ax=ax) \n",
    "    ax.set_xlabel('MONTH') \n",
    "    ax.set_ylabel(var) \n",
    "    fig.savefig('../picture/boxPlot/eMonth' + '/' +var+'.png')"
   ]
  },
  {
   "cell_type": "code",
   "execution_count": null,
   "metadata": {
    "hidden": true
   },
   "outputs": [],
   "source": [
    "# 繪製 Box, x = Var。 each Hour\n",
    "\n",
    "VARs = varApow\n",
    "df = project\n",
    "\n",
    "for var in VARs:\n",
    "    fig, axes = plt.subplots(figsize=(asX, asY))\n",
    "    ax = axes\n",
    "    sns.boxplot(x='HOUR', y=var, data=df, ax=ax) \n",
    "    ax.set_xlabel(\"HOUR\") \n",
    "    ax.set_ylabel(var) \n",
    "    fig.savefig('../picture/boxPlot/eHour' + '/' +var+'.png')"
   ]
  },
  {
   "cell_type": "code",
   "execution_count": null,
   "metadata": {
    "hidden": true
   },
   "outputs": [],
   "source": [
    "# 繪製 Box, x = Var。 each Season\n",
    "\n",
    "VARs = varApow\n",
    "df = project\n",
    "\n",
    "for var in VARs:\n",
    "    fig, axes = plt.subplots(figsize=(asX, asY))\n",
    "    ax = axes\n",
    "    sns.boxplot(x='SEASON', y=var, data=df, ax=ax) \n",
    "    ax.set_xlabel('SEASON') \n",
    "    ax.set_ylabel(var) \n",
    "    fig.savefig('../picture/boxPlot/eSeason' + '/' +var+'.png')"
   ]
  },
  {
   "cell_type": "markdown",
   "metadata": {},
   "source": [
    "### 核密度估计（kernel density estimation，KDE）。"
   ]
  },
  {
   "cell_type": "code",
   "execution_count": null,
   "metadata": {},
   "outputs": [],
   "source": [
    "# 核密度图（Kernel Density Plots）\n",
    "VARs = varApow\n",
    "project[varApow].plot(kind='density', subplots=True, \n",
    "                  layout=(3, 5), sharex=False, figsize=(asX*5, asY*3));"
   ]
  },
  {
   "cell_type": "code",
   "execution_count": null,
   "metadata": {},
   "outputs": [],
   "source": [
    "# 繪製 KDE。\n",
    "VARs = varApow\n",
    "df = project\n",
    "for var in VARs:\n",
    "    _,ax = plt.subplots(figsize=(asX, asY))\n",
    "    sns_hist = sns.distplot(df[var]);\n",
    "    fig = sns_hist.get_figure()\n",
    "    fig.savefig('../picture/KDE/'+var+'.png')"
   ]
  },
  {
   "cell_type": "code",
   "execution_count": null,
   "metadata": {},
   "outputs": [],
   "source": [
    "# 繪製 KDE。 each Month\n",
    "VARs = varApow\n",
    "df = project\n",
    "for var in VARs:\n",
    "    fig = plt.figure(figsize=(msX, msY))\n",
    "    for i in range(1, 13):\n",
    "        df = project[project['MONTH']== i]\n",
    "        ax = fig.add_subplot(3, 4, i)\n",
    "        sns_hist = sns.distplot(df[var])\n",
    "        ax.figure = sns_hist.get_figure()\n",
    "        ax.set_title('MONTH = ' + str(i), fontproperties=myfont)\n",
    "    fig.savefig('../picture/KDE/eMonth/'+var+'.png')"
   ]
  },
  {
   "cell_type": "code",
   "execution_count": null,
   "metadata": {},
   "outputs": [],
   "source": [
    "# 繪製 KDE。 each Hour\n",
    "VARs = varCol\n",
    "df = project\n",
    "for var in VARs:\n",
    "    print(var)\n",
    "    fig = plt.figure(figsize=(hsX, hsY))\n",
    "    for i in range(0, 24):\n",
    "        df = project[project['HOUR']== i]\n",
    "        ax = fig.add_subplot(4, 6, i+1)\n",
    "        sns_hist = sns.distplot(df[var])\n",
    "        ax.figure = sns_hist.get_figure()\n",
    "        ax.set_title('HOUR = ' + str(i), fontproperties=myfont)\n",
    "    fig.savefig('../picture/KDE/eHour/'+var+'.png')"
   ]
  },
  {
   "cell_type": "code",
   "execution_count": null,
   "metadata": {},
   "outputs": [],
   "source": [
    "# 繪製 KDE。 each Season\n",
    "VARs = varApow\n",
    "df = project\n",
    "for var in VARs:\n",
    "    fig = plt.figure(figsize=(asX*2, asY*2))\n",
    "    for i in range(4):\n",
    "        df = project[project['SEASON']== i]\n",
    "        ax = fig.add_subplot(2, 2, i+1)\n",
    "        sns_hist = sns.distplot(df[var])\n",
    "        ax.figure = sns_hist.get_figure()\n",
    "        ax.set_title('SEASON = ' + str(i), fontproperties=myfont)\n",
    "    fig.savefig('../picture/KDE/eSeason/'+var+'.png')"
   ]
  },
  {
   "cell_type": "markdown",
   "metadata": {
    "heading_collapsed": true
   },
   "source": [
    "### Describe"
   ]
  },
  {
   "cell_type": "code",
   "execution_count": null,
   "metadata": {
    "hidden": true
   },
   "outputs": [],
   "source": [
    "VARs = project.columns[6:]\n",
    "print(project[VARs].describe())"
   ]
  },
  {
   "cell_type": "markdown",
   "metadata": {},
   "source": [
    "### Try"
   ]
  },
  {
   "cell_type": "code",
   "execution_count": 12,
   "metadata": {},
   "outputs": [
    {
     "name": "stdout",
     "output_type": "stream",
     "text": [
      "['POWER', 'VAR169', 'VAR134', 'VAR79', 'VAR175', 'VAR157', 'VAR166', 'VAR228', 'VAR167', 'HOUR', 'VAR78', 'VAR165', 'VAR178', 'VAR164']\n"
     ]
    },
    {
     "data": {
      "image/png": "[encoded data removed]",
      "text/plain": [
       "<Figure size 720x648 with 2 Axes>"
      ]
     },
     "metadata": {
      "needs_background": "light"
     },
     "output_type": "display_data"
    }
   ],
   "source": [
    "# 丢弃非数值变量\n",
    "numerical = list(set(df.columns) - set(['ZONEID', 'TIMESTAMP', 'DATE', 'MONTH', 'SEASON']))\n",
    "\n",
    "print(numerical)\n",
    "# 计算和绘图\n",
    "corr_matrix = df[numerical].corr()\n",
    "_,ax = plt.subplots(figsize=(asX, asY))\n",
    "sns_heatmap = sns.heatmap(corr_matrix, annot=True, center=0);\n",
    "fig = sns_heatmap.get_figure()\n",
    "fig.savefig('../picture/相關矩陣.png')"
   ]
  }
 ],
 "metadata": {
  "kernelspec": {
   "display_name": "Python 3",
   "language": "python",
   "name": "python3"
  },
  "language_info": {
   "codemirror_mode": {
    "name": "ipython",
    "version": 3
   },
   "file_extension": ".py",
   "mimetype": "text/x-python",
   "name": "python",
   "nbconvert_exporter": "python",
   "pygments_lexer": "ipython3",
   "version": "3.7.0"
  },
  "toc": {
   "base_numbering": 1,
   "nav_menu": {},
   "number_sections": false,
   "sideBar": true,
   "skip_h1_title": true,
   "title_cell": "Table of Contents",
   "title_sidebar": "Contents",
   "toc_cell": false,
   "toc_position": {
    "height": "calc(100% - 180px)",
    "left": "10px",
    "top": "150px",
    "width": "206.6px"
   },
   "toc_section_display": true,
   "toc_window_display": true
  }
 },
 "nbformat": 4,
 "nbformat_minor": 2
}
