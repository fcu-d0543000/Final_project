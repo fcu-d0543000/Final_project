{
 "cells": [
  {
   "cell_type": "markdown",
   "metadata": {},
   "source": [
    "## 分析資料\n",
    " \n",
    "78 雲液態水含量的垂直積分  單位（kg m ** - 2）  \n",
    "79 雲冰水含量的垂直積分  單位（kg m ** - 2）  \n",
    "134 表面壓力  單位：Pa   \n",
    "157 相對濕度  單位（％）  \n",
    "164 總雲量  單位：（0-1）  \n",
    "165 10米U風部件  單位（m s ** - 1）  \n",
    "166 米V風分量  單位（m s ** - 1）  \n",
    "167 2米溫度  單位：K  \n",
    "169 表面太陽輻射  單位：J m-2  \n",
    "175 表面熱輻射下降  單位：J m-2  \n",
    "178 大氣頂部的淨太陽輻射  單位：J m-2  \n",
    "228 總降水量  單位：m   \n",
    "  \n",
    "https://zhuanlan.zhihu.com/p/34568684 - 使用Python可视化数据"
   ]
  },
  {
   "cell_type": "markdown",
   "metadata": {
    "heading_collapsed": true
   },
   "source": [
    "### Prepare"
   ]
  },
  {
   "cell_type": "code",
   "execution_count": null,
   "metadata": {
    "hidden": true
   },
   "outputs": [],
   "source": [
    "# import pandas\n",
    "import pandas as pd\n",
    "from datetime import datetime\n",
    "from dateutil import parser\n",
    "import numpy as np\n",
    "\n",
    "# 禁用Anaconda警告\n",
    "import warnings\n",
    "warnings.simplefilter('ignore')"
   ]
  },
  {
   "cell_type": "code",
   "execution_count": null,
   "metadata": {
    "hidden": true
   },
   "outputs": [],
   "source": [
    "# 解決Python 3 Matplotlib與Seaborn視覺化套件中文顯示問題  \n",
    "# https://medium.com/@aitmr1234567890/%E8%A7%A3%E6%B1%BApython-3-matplotlib%E8%88%87seaborn%E8%A6%96%E8%A6%BA%E5%8C%96%E5%A5%97%E4%BB%B6%E4%B8%AD%E6%96%87%E9%A1%AF%E7%A4%BA%E5%95%8F%E9%A1%8C-f7b3773a889b  \n",
    "# \n",
    "# Google 中文字形  \n",
    "# https://www.google.com/get/noto/#serif-hant  "
   ]
  },
  {
   "cell_type": "code",
   "execution_count": null,
   "metadata": {
    "hidden": true
   },
   "outputs": [],
   "source": [
    "# 圖形相關\n",
    "from matplotlib.font_manager import FontProperties\n",
    "myfont = FontProperties(fname=r'NotoSerifCJKtc-Black.otf')\n",
    "\n",
    "import matplotlib.pyplot as plt\n",
    "import seaborn as sns\n",
    "sns.set(font=myfont.get_family())\n",
    "sns.set_style(\"whitegrid\",{\"font.sans-serif\":['Microsoft JhengHei']})"
   ]
  },
  {
   "cell_type": "code",
   "execution_count": null,
   "metadata": {
    "hidden": true
   },
   "outputs": [],
   "source": [
    "project = pd.read_csv('re_predictors15.csv')\n",
    "project.head(2)"
   ]
  },
  {
   "cell_type": "code",
   "execution_count": null,
   "metadata": {
    "hidden": true
   },
   "outputs": [],
   "source": [
    "df = project"
   ]
  },
  {
   "cell_type": "code",
   "execution_count": null,
   "metadata": {
    "hidden": true
   },
   "outputs": [],
   "source": [
    "# figure size\n",
    "# 單圖\n",
    "asX = 10\n",
    "asY = 9\n",
    "# 多圖\n",
    "# 12\n",
    "msX = 42\n",
    "msY = 28\n",
    "# 24\n",
    "hsX = 63\n",
    "hsY = 28\n",
    "# varCol only Vars\n",
    "varCol = list(set(project.columns) - set(['ZONEID', 'TIMESTAMP', 'DATE', 'MONTH', 'HOUR','POWER','SEASON']))\n",
    "# varApow\n",
    "varApow = list(set(project.columns) - set(['ZONEID', 'TIMESTAMP', 'DATE', 'MONTH', 'HOUR','SEASON']))"
   ]
  },
  {
   "cell_type": "markdown",
   "metadata": {
    "heading_collapsed": true
   },
   "source": [
    "### 散點圖 (Scatter)"
   ]
  },
  {
   "cell_type": "markdown",
   "metadata": {
    "heading_collapsed": true,
    "hidden": true
   },
   "source": [
    "#### x: HOUR, y: Var。"
   ]
  },
  {
   "cell_type": "code",
   "execution_count": null,
   "metadata": {
    "hidden": true
   },
   "outputs": [],
   "source": [
    "# 繪製 Scatter, x: HOUR, y: Var。\n",
    "\n",
    "VARs = varApow\n",
    "for var in VARs:\n",
    "    #每 HOUR 的 VAR\n",
    "    fig = plt.figure(figsize=(asX, asY))\n",
    "    ax = fig.add_subplot(111)\n",
    "    #ax.set_title('',fontproperties=myfont)\n",
    "    ax.set_xlabel(\"HOUR\",fontproperties=myfont)\n",
    "    ax.set_ylabel(var,fontproperties=myfont)\n",
    "    ax.scatter(project['HOUR'],project[var],c = 'r',marker = '.')\n",
    "    plt.savefig('../picture/xHour yVar/'+var+'.png')"
   ]
  },
  {
   "cell_type": "code",
   "execution_count": null,
   "metadata": {
    "hidden": true
   },
   "outputs": [],
   "source": [
    "# 繪製 Scatter, x: HOUR, y: Var。 each Month\n",
    "\n",
    "VARs = varApow\n",
    "for var in VARs:\n",
    "    fig = plt.figure(figsize=(msX, msY))\n",
    "    for i in range(1, 13):\n",
    "        df = project[project['MONTH']== i]\n",
    "        ax = fig.add_subplot(3, 4, i)\n",
    "        ax.set_title('MONTH = ' + str(i), fontproperties=myfont)\n",
    "        ax.set_xlabel(\"HOUR\",fontproperties=myfont)\n",
    "        ax.set_ylabel(var,fontproperties=myfont)\n",
    "        ax.scatter(df[\"HOUR\"],df[var],c = 'r',marker = '.')\n",
    "    plt.savefig('../picture/xHour yVar/eMonth/'+var+'.png')"
   ]
  },
  {
   "cell_type": "code",
   "execution_count": null,
   "metadata": {
    "hidden": true
   },
   "outputs": [],
   "source": [
    "# 繪製 Scatter, x: HOUR, y: Var。 each Season\n",
    "\n",
    "VARs = varApow\n",
    "df = project\n",
    "for var in VARs:\n",
    "    fig = plt.figure(figsize=(asX*2, asY*2))\n",
    "    for i in range(0, 4):\n",
    "        df = project[project['SEASON']== i]\n",
    "        ax = fig.add_subplot(2, 2, i+1)\n",
    "        ax.set_title('SEASON = ' + str(i), fontproperties=myfont)\n",
    "        ax.set_xlabel(\"HOUR\",fontproperties=myfont)\n",
    "        ax.set_ylabel(var,fontproperties=myfont)\n",
    "        ax.scatter(df[\"HOUR\"],df[var],c = 'r',marker = '.')\n",
    "    plt.savefig('../picture/xHour yVar/eSeason/'+var+'.png')"
   ]
  },
  {
   "cell_type": "markdown",
   "metadata": {
    "heading_collapsed": true,
    "hidden": true
   },
   "source": [
    "####  x: Var, y: power。"
   ]
  },
  {
   "cell_type": "code",
   "execution_count": null,
   "metadata": {
    "hidden": true
   },
   "outputs": [],
   "source": [
    "# 繪製 Scatter, x: Var, y: power。\n",
    "\n",
    "VARs = varCol\n",
    "for var in VARs:\n",
    "    #每 HOUR 的 VAR\n",
    "    fig = plt.figure(figsize=(asX, asY))\n",
    "    ax = fig.add_subplot(111)\n",
    "    #ax.set_title('Scatter Plot',fontproperties=myfont)\n",
    "    ax.set_xlabel(var,fontproperties=myfont)\n",
    "    ax.set_ylabel(\"POWER\",fontproperties=myfont)\n",
    "    ax.scatter(project[var],project[\"POWER\"],c = 'r',marker = '.')\n",
    "    plt.savefig('../picture/xVar yPower/'+var+'.png')"
   ]
  },
  {
   "cell_type": "code",
   "execution_count": null,
   "metadata": {
    "hidden": true
   },
   "outputs": [],
   "source": [
    "# 繪製 Scatter, x: Var, y: power。 HOUR = 4~17\n",
    "\n",
    "VARs = varCol\n",
    "df = project[project['HOUR'] >= 4]\n",
    "df = df[df['HOUR'] <= 17]\n",
    "for var in VARs:\n",
    "    #每 HOUR 的 VAR\n",
    "    fig = plt.figure(figsize=(asX, asY))\n",
    "    ax = fig.add_subplot(111)\n",
    "    ax.set_title('HOUR 4~17',fontproperties=myfont)\n",
    "    ax.set_xlabel(var,fontproperties=myfont)\n",
    "    ax.set_ylabel(\"POWER\",fontproperties=myfont)\n",
    "    ax.scatter(df[var],df[\"POWER\"],c = 'r',marker = '.')\n",
    "    plt.savefig('../picture/xVar yPower/4-17/'+var+'.png')"
   ]
  },
  {
   "cell_type": "code",
   "execution_count": null,
   "metadata": {
    "hidden": true
   },
   "outputs": [],
   "source": [
    "# 繪製 Scatter, x: Var, y: power。 each Hour\n",
    "\n",
    "VARs = varCol\n",
    "df = project\n",
    "for var in VARs:\n",
    "    #每 HOUR 的 VAR\n",
    "    fig = plt.figure(figsize=(hsX, hsY))\n",
    "    for i in range(0, 24):\n",
    "        df = project[project['HOUR']== i]\n",
    "        ax = fig.add_subplot(4, 6, i+1)\n",
    "        ax.set_title('HOUR = ' + str(i), fontproperties=myfont)\n",
    "        ax.set_xlabel(var,fontproperties=myfont)\n",
    "        ax.set_ylabel(\"POWER\",fontproperties=myfont)\n",
    "        ax.scatter(df[var],df[\"POWER\"],c = 'r',marker = '.')\n",
    "    plt.savefig('../picture/xVar yPower/eHour/'+var+'.png')"
   ]
  },
  {
   "cell_type": "code",
   "execution_count": null,
   "metadata": {
    "hidden": true
   },
   "outputs": [],
   "source": [
    "# 繪製 Scatter, x: Var, y: power。 each Month\n",
    "\n",
    "VARs = varCol\n",
    "df = project\n",
    "for var in VARs:\n",
    "    #每 Month 的 VAR\n",
    "    fig = plt.figure(figsize=(msX, msY))\n",
    "    for i in range(1, 13):\n",
    "        df = project[project['MONTH']== i]\n",
    "        ax = fig.add_subplot(3, 4, i)\n",
    "        ax.set_title('MONTH = ' + str(i), fontproperties=myfont)\n",
    "        ax.set_xlabel(var,fontproperties=myfont)\n",
    "        ax.set_ylabel(\"POWER\",fontproperties=myfont)\n",
    "        ax.scatter(df[var],df[\"POWER\"],c = 'r',marker = '.')\n",
    "    plt.savefig('../picture/xVar yPower/eMonth/'+var+'.png')"
   ]
  },
  {
   "cell_type": "code",
   "execution_count": null,
   "metadata": {
    "hidden": true
   },
   "outputs": [],
   "source": [
    "# 繪製 Scatter, x: Var, y: power。 each Season\n",
    "\n",
    "VARs = varCol\n",
    "df = project\n",
    "for var in VARs:\n",
    "    #每 Month 的 VAR\n",
    "    fig = plt.figure(figsize=(asX*2, asY*2))\n",
    "    for i in range(0, 4):\n",
    "        df = project[project['SEASON']== i]\n",
    "        ax = fig.add_subplot(2, 2, i+1)\n",
    "        ax.set_title('SEASON = ' + str(i), fontproperties=myfont)\n",
    "        ax.set_xlabel(var,fontproperties=myfont)\n",
    "        ax.set_ylabel(\"POWER\",fontproperties=myfont)\n",
    "        ax.scatter(df[var],df[\"POWER\"],c = 'r',marker = '.')\n",
    "    plt.savefig('../picture/xVar yPower/eSeason/'+var+'.png')"
   ]
  },
  {
   "cell_type": "markdown",
   "metadata": {
    "heading_collapsed": true,
    "hidden": true
   },
   "source": [
    "#### x: Month, y: Var。"
   ]
  },
  {
   "cell_type": "code",
   "execution_count": null,
   "metadata": {
    "hidden": true
   },
   "outputs": [],
   "source": [
    "# 繪製 Scatter, x: Month, y: Var。\n",
    "\n",
    "VARs = varCol\n",
    "for var in VARs:\n",
    "    #每 HOUR 的 VAR\n",
    "    fig = plt.figure(figsize=(5, 4))\n",
    "    ax = fig.add_subplot(111)\n",
    "    ax.set_title('',fontproperties=myfont)\n",
    "    ax.set_xlabel('MONTH',fontproperties=myfont)\n",
    "    ax.set_ylabel(var,fontproperties=myfont)\n",
    "    ax.scatter(df['MONTH'],df[var],c = 'r',marker = '.')\n",
    "    plt.savefig('../picture/xMonth yVar/'+var+'.png')"
   ]
  },
  {
   "cell_type": "code",
   "execution_count": null,
   "metadata": {
    "hidden": true
   },
   "outputs": [],
   "source": [
    "# 繪製 Scatter, x: Month, y: Var。 ZONEID = [1, 2, 3]\n",
    "\n",
    "VARs = varCol\n",
    "for i in range(1, 4):\n",
    "    df = project[project['ZONEID'] == i]\n",
    "    for var in VARs:\n",
    "        #每 HOUR 的 VAR\n",
    "        fig = plt.figure(figsize=(5, 4))\n",
    "        ax = fig.add_subplot(111)\n",
    "        ax.set_title('ZONEID '+str(i), fontproperties=myfont)\n",
    "        ax.set_xlabel('MONTH', fontproperties=myfont)\n",
    "        ax.set_ylabel(var, fontproperties=myfont)\n",
    "        ax.scatter(df['MONTH'], df[var], c = 'r', marker = '.')\n",
    "        plt.savefig('../picture/xMonth yVar/ZONEID'+str(i)+'/'+var+'.png')"
   ]
  },
  {
   "cell_type": "markdown",
   "metadata": {
    "heading_collapsed": true,
    "hidden": true
   },
   "source": [
    "#### x: Var1, y: Var2。"
   ]
  },
  {
   "cell_type": "code",
   "execution_count": null,
   "metadata": {
    "hidden": true
   },
   "outputs": [],
   "source": [
    "# 繪製 Scatter, x: Var1, y: Var2。 \n",
    "\n",
    "VARs = varCol\n",
    "df = project\n",
    "for var1 in VARs:\n",
    "    for var2 in VARs:\n",
    "        if var1 != var2:\n",
    "            fig = plt.figure(figsize=(asX, asY))\n",
    "            ax = fig.add_subplot(1, 1, 1)\n",
    "            ax.set_title('x: ' + var1 + ' y: ' + var2, fontproperties=myfont)\n",
    "            ax.set_xlabel(var1, fontproperties=myfont)\n",
    "            ax.set_ylabel(var2, fontproperties=myfont)\n",
    "            ax.scatter(df[var1],df[var2],c = 'r',marker = '.')\n",
    "            plt.savefig('../picture/xVar1 xVar2/' + var1 + '/' + var2 +'.png')"
   ]
  },
  {
   "cell_type": "code",
   "execution_count": null,
   "metadata": {
    "hidden": true
   },
   "outputs": [],
   "source": [
    "# 繪製 Scatter, x: Var1, y: Var2。 大圖\n",
    "\n",
    "VARs = varCol\n",
    "df = project\n",
    "for var1 in VARs:\n",
    "    fig = plt.figure(figsize=(msX, msY))\n",
    "    i = 1\n",
    "    for var2 in VARs:\n",
    "        if var1 != var2:\n",
    "            ax = fig.add_subplot(3, 4, i)\n",
    "            ax.set_title('x: ' + var1 + ' y: ' + var2, fontproperties=myfont)\n",
    "            ax.set_xlabel(var1, fontproperties=myfont)\n",
    "            ax.set_ylabel(var2, fontproperties=myfont)\n",
    "            ax.scatter(df[var1],df[var2],c = 'r',marker = '.')\n",
    "            i += 1\n",
    "    plt.savefig('../picture/xVar1 xVar2/' + var1 +'.png')"
   ]
  },
  {
   "cell_type": "markdown",
   "metadata": {
    "heading_collapsed": true
   },
   "source": [
    "### 箱型圖 (Box plot)"
   ]
  },
  {
   "cell_type": "code",
   "execution_count": null,
   "metadata": {
    "hidden": true
   },
   "outputs": [],
   "source": [
    "# 繪製 Box, x = Var。\n",
    "\n",
    "VARs = varApow\n",
    "df = project\n",
    "for var in VARs:\n",
    "    _,ax = plt.subplots(figsize=(asX, asY))\n",
    "    ax.set_title(var)\n",
    "    sns_hist = sns.boxplot(data=df[var], ax=ax)\n",
    "    fig = sns_hist.get_figure()\n",
    "    fig.savefig('../picture/boxPlot/'+var+'.png')"
   ]
  },
  {
   "cell_type": "code",
   "execution_count": null,
   "metadata": {
    "hidden": true
   },
   "outputs": [],
   "source": [
    "# 繪製 Box, x = Var。 each Month\n",
    "\n",
    "VARs = varApow\n",
    "df = project\n",
    "\n",
    "for var in VARs:\n",
    "    fig, axes = plt.subplots(figsize=(asX, asY))\n",
    "    ax = axes\n",
    "    sns.boxplot(x='MONTH', y=var, data=df, ax=ax) \n",
    "    ax.set_xlabel('MONTH') \n",
    "    ax.set_ylabel(var) \n",
    "    fig.savefig('../picture/boxPlot/eMonth' + '/' +var+'.png')"
   ]
  },
  {
   "cell_type": "code",
   "execution_count": null,
   "metadata": {
    "hidden": true
   },
   "outputs": [],
   "source": [
    "# 繪製 Box, x = Var。 each Hour\n",
    "\n",
    "VARs = varApow\n",
    "df = project\n",
    "\n",
    "for var in VARs:\n",
    "    fig, axes = plt.subplots(figsize=(asX, asY))\n",
    "    ax = axes\n",
    "    sns.boxplot(x='HOUR', y=var, data=df, ax=ax) \n",
    "    ax.set_xlabel(\"HOUR\") \n",
    "    ax.set_ylabel(var) \n",
    "    fig.savefig('../picture/boxPlot/eHour' + '/' +var+'.png')"
   ]
  },
  {
   "cell_type": "code",
   "execution_count": null,
   "metadata": {
    "hidden": true
   },
   "outputs": [],
   "source": [
    "# 繪製 Box, x = Var。 each Season\n",
    "\n",
    "VARs = varApow\n",
    "df = project\n",
    "\n",
    "for var in VARs:\n",
    "    fig, axes = plt.subplots(figsize=(asX, asY))\n",
    "    ax = axes\n",
    "    sns.boxplot(x='SEASON', y=var, data=df, ax=ax) \n",
    "    ax.set_xlabel('SEASON') \n",
    "    ax.set_ylabel(var) \n",
    "    fig.savefig('../picture/boxPlot/eSeason' + '/' +var+'.png')"
   ]
  },
  {
   "cell_type": "markdown",
   "metadata": {},
   "source": [
    "### 核密度估计（kernel density estimation，KDE）。"
   ]
  },
  {
   "cell_type": "code",
   "execution_count": null,
   "metadata": {},
   "outputs": [],
   "source": [
    "# 核密度图（Kernel Density Plots）\n",
    "VARs = varApow\n",
    "project[varApow].plot(kind='density', subplots=True, \n",
    "                  layout=(3, 5), sharex=False, figsize=(asX*5, asY*3));"
   ]
  },
  {
   "cell_type": "code",
   "execution_count": null,
   "metadata": {},
   "outputs": [],
   "source": [
    "# 繪製 KDE。\n",
    "VARs = varApow\n",
    "df = project\n",
    "for var in VARs:\n",
    "    _,ax = plt.subplots(figsize=(asX, asY))\n",
    "    sns_hist = sns.distplot(df[var]);\n",
    "    fig = sns_hist.get_figure()\n",
    "    fig.savefig('../picture/KDE/'+var+'.png')"
   ]
  },
  {
   "cell_type": "code",
   "execution_count": null,
   "metadata": {},
   "outputs": [],
   "source": [
    "# 繪製 KDE。 each Month\n",
    "VARs = varApow\n",
    "df = project\n",
    "for var in VARs:\n",
    "    fig = plt.figure(figsize=(msX, msY))\n",
    "    for i in range(1, 13):\n",
    "        df = project[project['MONTH']== i]\n",
    "        ax = fig.add_subplot(3, 4, i)\n",
    "        sns_hist = sns.distplot(df[var])\n",
    "        ax.figure = sns_hist.get_figure()\n",
    "        ax.set_title('MONTH = ' + str(i), fontproperties=myfont)\n",
    "    fig.savefig('../picture/KDE/eMonth/'+var+'.png')"
   ]
  },
  {
   "cell_type": "code",
   "execution_count": null,
   "metadata": {},
   "outputs": [],
   "source": [
    "# 繪製 KDE。 each Hour\n",
    "VARs = varCol\n",
    "df = project\n",
    "for var in VARs:\n",
    "    print(var)\n",
    "    fig = plt.figure(figsize=(hsX, hsY))\n",
    "    for i in range(0, 24):\n",
    "        df = project[project['HOUR']== i]\n",
    "        ax = fig.add_subplot(4, 6, i+1)\n",
    "        sns_hist = sns.distplot(df[var])\n",
    "        ax.figure = sns_hist.get_figure()\n",
    "        ax.set_title('HOUR = ' + str(i), fontproperties=myfont)\n",
    "    fig.savefig('../picture/KDE/eHour/'+var+'.png')"
   ]
  },
  {
   "cell_type": "code",
   "execution_count": null,
   "metadata": {},
   "outputs": [],
   "source": [
    "# 繪製 KDE。 each Season\n",
    "VARs = varApow\n",
    "df = project\n",
    "for var in VARs:\n",
    "    fig = plt.figure(figsize=(asX*2, asY*2))\n",
    "    for i in range(4):\n",
    "        df = project[project['SEASON']== i]\n",
    "        ax = fig.add_subplot(2, 2, i+1)\n",
    "        sns_hist = sns.distplot(df[var])\n",
    "        ax.figure = sns_hist.get_figure()\n",
    "        ax.set_title('SEASON = ' + str(i), fontproperties=myfont)\n",
    "    fig.savefig('../picture/KDE/eSeason/'+var+'.png')"
   ]
  },
  {
   "cell_type": "markdown",
   "metadata": {
    "heading_collapsed": true
   },
   "source": [
    "### Describe"
   ]
  },
  {
   "cell_type": "code",
   "execution_count": null,
   "metadata": {
    "hidden": true
   },
   "outputs": [],
   "source": [
    "VARs = project.columns[6:]\n",
    "print(project[VARs].describe())"
   ]
  },
  {
   "cell_type": "markdown",
   "metadata": {},
   "source": [
    "### Try"
   ]
  }
 ],
 "metadata": {
  "kernelspec": {
   "display_name": "Python 3",
   "language": "python",
   "name": "python3"
  },
  "language_info": {
   "codemirror_mode": {
    "name": "ipython",
    "version": 3
   },
   "file_extension": ".py",
   "mimetype": "text/x-python",
   "name": "python",
   "nbconvert_exporter": "python",
   "pygments_lexer": "ipython3",
   "version": "3.7.0"
  },
  "toc": {
   "base_numbering": 1,
   "nav_menu": {},
   "number_sections": false,
   "sideBar": true,
   "skip_h1_title": true,
   "title_cell": "Table of Contents",
   "title_sidebar": "Contents",
   "toc_cell": false,
   "toc_position": {
    "height": "calc(100% - 180px)",
    "left": "10px",
    "top": "150px",
    "width": "206.6px"
   },
   "toc_section_display": true,
   "toc_window_display": true
  }
 },
 "nbformat": 4,
 "nbformat_minor": 2
}
