{
 "cells": [
  {
   "cell_type": "code",
   "execution_count": 20,
   "metadata": {},
   "outputs": [],
   "source": [
    "# prepare\n",
    "import pandas as pd\n",
    "import numpy as np\n",
    "import matplotlib.pyplot as plt\n",
    "import math\n",
    "import random\n",
    "df = pd.read_csv(\"data.csv\")\n",
    "df['x1'] = normalization(df['input1'])\n",
    "df['x2'] = normalization(df['input2'])\n",
    "df['output'] = normalization(df['ans'])"
   ]
  },
  {
   "cell_type": "code",
   "execution_count": 120,
   "metadata": {},
   "outputs": [],
   "source": [
    "if __name__ == '__main__':   \n",
    "    vlist, wlist, blist = [], [], []\n",
    "    for k in range(50):\n",
    "        # setting\n",
    "        p = Layer() \n",
    "        q = QLayer()\n",
    "        r = QLayer()\n",
    "\n",
    "        # initial\n",
    "        w, b, v = initial()\n",
    "        # training\n",
    "        for i in range(len(df)):\n",
    "            # input x1, x2\n",
    "            p.add([df.x1[i], df.x2[i]])\n",
    "            # q\n",
    "            q.calculate(w=w, x=p.Olist[-1], b=b)\n",
    "            # r\n",
    "            r.calculate(w=v, x=q.Olist[-1])\n",
    "        if k == 0:\n",
    "            for j in range(3): \n",
    "                vlist.append([v[j]])\n",
    "                blist.append([b[j]])\n",
    "                wlist.append([[w[j][0]], [w[j][1]]])\n",
    "        else:\n",
    "            for j in range(3):\n",
    "                vlist[j].append(v[j])\n",
    "                blist[j].append(b[j])\n",
    "                wlist[j][0].append(w[j][0])\n",
    "                wlist[j][1].append(w[j][1])\n",
    "        \n",
    "        # figure\n",
    "        fig = plt.figure(0,figsize=(20,5))\n",
    "        plt.plot(range(1000), df.output)\n",
    "        plt.plot(range(1000), r.Olist)\n",
    "        fig.savefig(\"pitcture/nn\" + str(k) +\".png\")\n",
    "        plt.close(0)\n",
    "    # to_csv\n",
    "    result = pd.DataFrame({\n",
    "        'w11': wlist[0][0],\n",
    "        'w12': wlist[0][1], \n",
    "        'w21': wlist[1][0],\n",
    "        'w22': wlist[1][1],\n",
    "        'w31': wlist[2][0],\n",
    "        'w32': wlist[2][1],\n",
    "        'b1': blist[0],\n",
    "        'b2': blist[1],\n",
    "        'b3': blist[2],\n",
    "        'v11': vlist[0],\n",
    "        'v12': vlist[1],  \n",
    "        'v13': vlist[2],\n",
    "    })\n",
    "    \n",
    "    result.to_csv(\"csv/nn.csv\",index=0)"
   ]
  },
  {
   "cell_type": "code",
   "execution_count": 3,
   "metadata": {},
   "outputs": [],
   "source": [
    "def initial():\n",
    "    w = []\n",
    "    b = []\n",
    "    v = []\n",
    "    for i in range(3):\n",
    "        w.append([round(random.uniform(-1,1), 2), round(random.uniform(-1,1), 2)])\n",
    "        b.append(round(random.uniform(-1,1), 2))\n",
    "        v.append(round(random.uniform(-1,1), 2))\n",
    "    return w, b, v"
   ]
  },
  {
   "cell_type": "code",
   "execution_count": 4,
   "metadata": {},
   "outputs": [],
   "source": [
    "def normalization(x):\n",
    "    return (x - x.min())/(x.max() - x.min())"
   ]
  },
  {
   "cell_type": "code",
   "execution_count": 5,
   "metadata": {},
   "outputs": [],
   "source": [
    "class Layer:\n",
    "    def __init__(self):\n",
    "        self.Olist = []\n",
    "    def add(self, i):\n",
    "        self.Olist.append(i)"
   ]
  },
  {
   "cell_type": "code",
   "execution_count": 6,
   "metadata": {},
   "outputs": [],
   "source": [
    "class QLayer(Layer):\n",
    "    def activation(self, x):\n",
    "        return (math.exp(x)-math.exp(-1*x))/(math.exp(x)+math.exp(-1*x))\n",
    "    def calculate(self, w, x, b=[0]):\n",
    "        if len(b) > 1: self.add([ self.activation(np.array(w[i]).dot(np.array(x)) + b[i]) for i in range(len(b))])\n",
    "        else : self.add( np.array(w).dot(np.array(x)))\n",
    "            "
   ]
  }
 ],
 "metadata": {
  "kernelspec": {
   "display_name": "Python 3",
   "language": "python",
   "name": "python3"
  },
  "language_info": {
   "codemirror_mode": {
    "name": "ipython",
    "version": 3
   },
   "file_extension": ".py",
   "mimetype": "text/x-python",
   "name": "python",
   "nbconvert_exporter": "python",
   "pygments_lexer": "ipython3",
   "version": "3.7.0"
  },
  "toc": {
   "base_numbering": 1,
   "nav_menu": {},
   "number_sections": true,
   "sideBar": true,
   "skip_h1_title": true,
   "title_cell": "Table of Contents",
   "title_sidebar": "Contents",
   "toc_cell": false,
   "toc_position": {
    "height": "calc(100% - 180px)",
    "left": "10px",
    "top": "150px",
    "width": "165px"
   },
   "toc_section_display": true,
   "toc_window_display": true
  }
 },
 "nbformat": 4,
 "nbformat_minor": 2
}
